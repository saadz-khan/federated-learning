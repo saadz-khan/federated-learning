{
  "nbformat": 4,
  "nbformat_minor": 0,
  "metadata": {
    "colab": {
      "name": "Untitled6.ipynb",
      "provenance": [],
      "include_colab_link": true
    },
    "kernelspec": {
      "name": "python3",
      "display_name": "Python 3"
    },
    "language_info": {
      "name": "python"
    },
    "gpuClass": "standard"
  },
  "cells": [
    {
      "cell_type": "markdown",
      "metadata": {
        "id": "view-in-github",
        "colab_type": "text"
      },
      "source": [
        "<a href=\"https://colab.research.google.com/github/saadz-khan/federated-learning/blob/master/federated-learning.ipynb\" target=\"_parent\"><img src=\"https://colab.research.google.com/assets/colab-badge.svg\" alt=\"Open In Colab\"/></a>"
      ]
    },
    {
      "cell_type": "code",
      "source": [
        "%tensorflow_version 1.x"
      ],
      "metadata": {
        "colab": {
          "base_uri": "https://localhost:8080/"
        },
        "id": "txCpdLP5gCYV",
        "outputId": "329f1dee-2afe-42e1-a0d2-cc362a09f44b"
      },
      "execution_count": 1,
      "outputs": [
        {
          "output_type": "stream",
          "name": "stdout",
          "text": [
            "WARNING: Tensorflow 1 is deprecated, and support will be removed on August 1, 2022.\n",
            "After that, `%tensorflow_version 1.x` will throw an error.\n",
            "\n",
            "Your notebook should be updated to use Tensorflow 2.\n",
            "See the guide at https://www.tensorflow.org/guide/migrate#migrate-from-tensorflow-1x-to-tensorflow-2.\n",
            "\n",
            "TensorFlow 1.x selected.\n"
          ]
        }
      ]
    },
    {
      "cell_type": "code",
      "execution_count": 3,
      "metadata": {
        "colab": {
          "base_uri": "https://localhost:8080/"
        },
        "id": "C8OSG8diWtPf",
        "outputId": "2f4b3b6a-e7ec-4c01-bfc5-46cd9facce50"
      },
      "outputs": [
        {
          "output_type": "stream",
          "name": "stdout",
          "text": [
            "conda 4.9.2\n"
          ]
        }
      ],
      "source": [
        "!pip install -q condacolab\n",
        "import condacolab\n",
        "condacolab.install()\n",
        "!conda --version\n",
        "!git clone https://github.com/IBM/federated-learning-lib\n",
        "%cd /content/federated-learning-lib/federated-learning-lib/\n",
        "!conda create -n venv python=3.7"
      ]
    },
    {
      "cell_type": "code",
      "source": [
        "!conda info --envs"
      ],
      "metadata": {
        "colab": {
          "base_uri": "https://localhost:8080/"
        },
        "id": "BveUA3ZSW_oP",
        "outputId": "9b54c3c7-ec5b-4fb8-a6e9-e58f10a19e64"
      },
      "execution_count": 4,
      "outputs": [
        {
          "output_type": "stream",
          "name": "stdout",
          "text": [
            "Cloning into 'federated-learning-lib'...\n",
            "remote: Enumerating objects: 1101, done.\u001b[K\n",
            "remote: Counting objects: 100% (125/125), done.\u001b[K\n",
            "remote: Compressing objects: 100% (95/95), done.\u001b[K\n",
            "remote: Total 1101 (delta 53), reused 51 (delta 29), pack-reused 976\u001b[K\n",
            "Receiving objects: 100% (1101/1101), 17.34 MiB | 14.02 MiB/s, done.\n",
            "Resolving deltas: 100% (554/554), done.\n"
          ]
        }
      ]
    },
    {
      "cell_type": "code",
      "source": [
        "%%bash\n",
        "source activate venv\n",
        "\n",
        "python\n",
        "import sys\n",
        "# some simple python commands\n",
        "sys.path.append('/usr/local/lib/python3.7/site-packages')\n",
        "print(sys.path)\n",
        "\n",
        "print(\"Python version\")\n",
        "print(sys.version)"
      ],
      "metadata": {
        "colab": {
          "base_uri": "https://localhost:8080/"
        },
        "id": "H1VafhjpXjAO",
        "outputId": "81b0f90c-659d-4e2f-9d04-e3f45ddafb9f"
      },
      "execution_count": 5,
      "outputs": [
        {
          "output_type": "stream",
          "name": "stdout",
          "text": [
            "/content/federated-learning-lib/federated-learning-lib\n"
          ]
        }
      ]
    },
    {
      "cell_type": "code",
      "source": [
        "!conda update conda -y -q\n",
        "!source /usr/local/etc/profile.d/conda.sh\n",
        "!conda init \n",
        "!conda install -n root _license -y -q\n",
        "!conda activate venv"
      ],
      "metadata": {
        "id": "jBc-hWELePNA"
      },
      "execution_count": null,
      "outputs": []
    },
    {
      "cell_type": "code",
      "source": [
        "!pip install /content/federated-learning-lib/federated-learning-lib/federated_learning_lib-1.0.7-py3-none-any.whl\n",
        "%cd /content/federated-learning-lib\n",
        "!pip install -r requirements.txt"
      ],
      "metadata": {
        "id": "Z2x4tZvIYARm"
      },
      "execution_count": null,
      "outputs": []
    },
    {
      "cell_type": "code",
      "source": [
        "%cd /content/federated-learning-lib\n",
        "!python ./examples/generate_data.py -n 2 -d mnist -pp 200"
      ],
      "metadata": {
        "colab": {
          "base_uri": "https://localhost:8080/"
        },
        "id": "MGO_v28TfFrl",
        "outputId": "2a359f22-8bf8-4946-a7d0-cf404a497b33"
      },
      "execution_count": 10,
      "outputs": [
        {
          "output_type": "stream",
          "name": "stdout",
          "text": [
            "/content/federated-learning-lib\n",
            "/usr/local/lib/python3.7/site-packages/urllib3/connectionpool.py:1052: InsecureRequestWarning: Unverified HTTPS request is being made to host 's3.amazonaws.com'. Adding certificate verification is strongly advised. See: https://urllib3.readthedocs.io/en/1.26.x/advanced-usage.html#ssl-warnings\n",
            "  InsecureRequestWarning,\n",
            "Warning: test set and train set contain different labels\n",
            "Party_ 0\n",
            "nb_x_train:  (200, 28, 28) nb_x_test:  (5000, 28, 28)\n",
            "* Label  0  samples:  23\n",
            "* Label  1  samples:  22\n",
            "* Label  2  samples:  21\n",
            "* Label  3  samples:  22\n",
            "* Label  4  samples:  25\n",
            "* Label  5  samples:  18\n",
            "* Label  6  samples:  12\n",
            "* Label  7  samples:  25\n",
            "* Label  8  samples:  16\n",
            "* Label  9  samples:  16\n",
            "Finished! :) Data saved in  examples/data/mnist/random\n",
            "Party_ 1\n",
            "nb_x_train:  (200, 28, 28) nb_x_test:  (5000, 28, 28)\n",
            "* Label  0  samples:  32\n",
            "* Label  1  samples:  20\n",
            "* Label  2  samples:  19\n",
            "* Label  3  samples:  22\n",
            "* Label  4  samples:  16\n",
            "* Label  5  samples:  14\n",
            "* Label  6  samples:  15\n",
            "* Label  7  samples:  21\n",
            "* Label  8  samples:  21\n",
            "* Label  9  samples:  20\n",
            "Finished! :) Data saved in  examples/data/mnist/random\n"
          ]
        }
      ]
    },
    {
      "cell_type": "code",
      "source": [
        "!python  ./examples/generate_configs.py -n 2 -f iter_avg -m keras -d mnist -p ./examples/data/mnist/random/"
      ],
      "metadata": {
        "colab": {
          "base_uri": "https://localhost:8080/"
        },
        "id": "etc_whzVfzsO",
        "outputId": "c08a3f6d-d338-47ec-a5a4-c5c0c396fff9"
      },
      "execution_count": 13,
      "outputs": [
        {
          "output_type": "stream",
          "name": "stdout",
          "text": [
            "Using TensorFlow backend.\n",
            "Finished generating config file for aggregator. Files can be found in:  /content/federated-learning-lib/examples/configs/iter_avg/keras/config_agg.yml\n",
            "WARNING:tensorflow:From /usr/local/lib/python3.7/site-packages/keras/backend/tensorflow_backend.py:74: The name tf.get_default_graph is deprecated. Please use tf.compat.v1.get_default_graph instead.\n",
            "\n",
            "WARNING:tensorflow:From /usr/local/lib/python3.7/site-packages/keras/backend/tensorflow_backend.py:517: The name tf.placeholder is deprecated. Please use tf.compat.v1.placeholder instead.\n",
            "\n",
            "WARNING:tensorflow:From /usr/local/lib/python3.7/site-packages/keras/backend/tensorflow_backend.py:4138: The name tf.random_uniform is deprecated. Please use tf.random.uniform instead.\n",
            "\n",
            "WARNING:tensorflow:From /usr/local/lib/python3.7/site-packages/keras/backend/tensorflow_backend.py:3976: The name tf.nn.max_pool is deprecated. Please use tf.nn.max_pool2d instead.\n",
            "\n",
            "WARNING:tensorflow:From /usr/local/lib/python3.7/site-packages/keras/backend/tensorflow_backend.py:133: The name tf.placeholder_with_default is deprecated. Please use tf.compat.v1.placeholder_with_default instead.\n",
            "\n",
            "WARNING:tensorflow:From /usr/local/lib/python3.7/site-packages/keras/backend/tensorflow_backend.py:3445: calling dropout (from tensorflow.python.ops.nn_ops) with keep_prob is deprecated and will be removed in a future version.\n",
            "Instructions for updating:\n",
            "Please use `rate` instead of `keep_prob`. Rate should be set to `rate = 1 - keep_prob`.\n",
            "WARNING:tensorflow:From /usr/local/lib/python3.7/site-packages/keras/optimizers.py:790: The name tf.train.Optimizer is deprecated. Please use tf.compat.v1.train.Optimizer instead.\n",
            "\n",
            "WARNING:tensorflow:From /usr/local/lib/python3.7/site-packages/keras/backend/tensorflow_backend.py:3295: The name tf.log is deprecated. Please use tf.math.log instead.\n",
            "\n",
            "WARNING:tensorflow:From /usr/local/lib/python3.7/site-packages/keras/backend/tensorflow_backend.py:174: The name tf.get_default_session is deprecated. Please use tf.compat.v1.get_default_session instead.\n",
            "\n",
            "WARNING:tensorflow:From /usr/local/lib/python3.7/site-packages/keras/backend/tensorflow_backend.py:181: The name tf.ConfigProto is deprecated. Please use tf.compat.v1.ConfigProto instead.\n",
            "\n",
            "WARNING:tensorflow:From /usr/local/lib/python3.7/site-packages/keras/backend/tensorflow_backend.py:186: The name tf.Session is deprecated. Please use tf.compat.v1.Session instead.\n",
            "\n",
            "2022-07-25 23:41:41.456048: I tensorflow/core/platform/cpu_feature_guard.cc:142] Your CPU supports instructions that this TensorFlow binary was not compiled to use: AVX2 FMA\n",
            "2022-07-25 23:41:41.463057: I tensorflow/core/platform/profile_utils/cpu_utils.cc:94] CPU Frequency: 2199995000 Hz\n",
            "2022-07-25 23:41:41.463305: I tensorflow/compiler/xla/service/service.cc:168] XLA service 0x55fc2290d500 initialized for platform Host (this does not guarantee that XLA will be used). Devices:\n",
            "2022-07-25 23:41:41.463345: I tensorflow/compiler/xla/service/service.cc:176]   StreamExecutor device (0): Host, Default Version\n",
            "2022-07-25 23:41:41.478983: I tensorflow/stream_executor/platform/default/dso_loader.cc:44] Successfully opened dynamic library libcuda.so.1\n",
            "2022-07-25 23:41:41.489988: E tensorflow/stream_executor/cuda/cuda_driver.cc:318] failed call to cuInit: CUDA_ERROR_NO_DEVICE: no CUDA-capable device is detected\n",
            "2022-07-25 23:41:41.490049: I tensorflow/stream_executor/cuda/cuda_diagnostics.cc:156] kernel driver does not appear to be running on this host (0bf8bad68fe2): /proc/driver/nvidia/version does not exist\n",
            "WARNING:tensorflow:From /usr/local/lib/python3.7/site-packages/keras/backend/tensorflow_backend.py:190: The name tf.global_variables is deprecated. Please use tf.compat.v1.global_variables instead.\n",
            "\n",
            "WARNING:tensorflow:From /usr/local/lib/python3.7/site-packages/keras/backend/tensorflow_backend.py:199: The name tf.is_variable_initialized is deprecated. Please use tf.compat.v1.is_variable_initialized instead.\n",
            "\n",
            "WARNING:tensorflow:From /usr/local/lib/python3.7/site-packages/keras/backend/tensorflow_backend.py:206: The name tf.variables_initializer is deprecated. Please use tf.compat.v1.variables_initializer instead.\n",
            "\n",
            "WARNING:tensorflow:From /usr/local/lib/python3.7/site-packages/keras/backend/tensorflow_backend.py:95: The name tf.reset_default_graph is deprecated. Please use tf.compat.v1.reset_default_graph instead.\n",
            "\n",
            "Finished generating config file for parties. Files can be found in:  /content/federated-learning-lib/examples/configs/iter_avg/keras/config_party*.yml\n"
          ]
        }
      ]
    },
    {
      "cell_type": "code",
      "source": [
        "!python -m ibmfl.aggregator.aggregator examples/configs/iter_avg/keras/config_agg.yml"
      ],
      "metadata": {
        "colab": {
          "base_uri": "https://localhost:8080/"
        },
        "id": "nR53NA4_SwWR",
        "outputId": "bdb65bf2-59bf-4c27-bdb4-32c7af972394"
      },
      "execution_count": null,
      "outputs": [
        {
          "output_type": "stream",
          "name": "stdout",
          "text": [
            "2022-07-25 23:41:47,012 | 1.0.6 | INFO | ibmfl.util.config                             | Getting details from config file.\n",
            "2022-07-25 23:41:48,052 | 1.0.6 | INFO | ibmfl.util.config                             | No metrics recorder config provided for this setup.\n",
            "2022-07-25 23:41:48,052 | 1.0.6 | INFO | ibmfl.util.config                             | No model config provided for this setup.\n",
            "2022-07-25 23:41:48,216 | 1.0.6 | INFO | ibmfl.util.config                             | No metrics config provided for this setup.\n",
            "2022-07-25 23:41:48,216 | 1.0.6 | INFO | ibmfl.util.config                             | No evidencia recordeer config provided for this setup.\n",
            "2022-07-25 23:41:48,216 | 1.0.6 | INFO | ibmfl.util.data_handlers.mnist_keras_data_handler | Loaded training data from examples/datasets/mnist.npz\n",
            "2022-07-25 23:41:48,727 | 1.0.6 | INFO | ibmfl.connection.flask_connection             | RestSender initialized\n",
            "2022-07-25 23:41:48,727 | 1.0.6 | INFO | ibmfl.aggregator.protohandler.proto_handler   | State: States.START\n",
            "2022-07-25 23:41:48,728 | 1.0.6 | INFO | ibmfl.connection.flask_connection             | Receiver Initialized\n",
            "2022-07-25 23:41:48,728 | 1.0.6 | INFO | ibmfl.connection.flask_connection             | Initializing Flask application\n",
            "2022-07-25 23:41:48,731 | 1.0.6 | INFO | __main__                                      | Aggregator initialization successful\n",
            "START\n",
            "2022-07-25 23:41:55,600 | 1.0.6 | INFO | root                                          | State: States.CLI_WAIT\n",
            "2022-07-25 23:41:55,601 | 1.0.6 | INFO | __main__                                      | Aggregator start successful\n",
            "2022-07-25 23:41:55,602 | 1.0.6 | INFO | werkzeug                                      |  * Running on http://127.0.0.1:5000 (Press CTRL+C to quit)\n",
            "2022-07-25 23:48:01,383 | 1.0.6 | INFO | ibmfl.connection.flask_connection             | Request received for path :6\n",
            "2022-07-25 23:48:01,386 | 1.0.6 | INFO | ibmfl.aggregator.protohandler.proto_handler   | Adding party with id cdc14bf1-4e12-4358-9586-bb0668dc65a9\n",
            "2022-07-25 23:48:01,386 | 1.0.6 | INFO | ibmfl.aggregator.protohandler.proto_handler   | Total number of registered parties:1\n",
            "2022-07-25 23:48:01,388 | 1.0.6 | INFO | werkzeug                                      | 127.0.0.1 - - [25/Jul/2022 23:48:01] \"POST /6 HTTP/1.1\" 200 -\n",
            "TRAIN\n",
            "2022-07-25 23:48:35,841 | 1.0.6 | INFO | root                                          | State: States.TRAIN\n",
            "2022-07-25 23:48:35,841 | 1.0.6 | INFO | __main__                                      | Initiating Global Training.\n",
            "2022-07-25 23:48:35,841 | 1.0.6 | INFO | ibmfl.aggregator.fusion.fusion_handler        | Warm start disabled.\n",
            "2022-07-25 23:48:35,841 | 1.0.6 | INFO | ibmfl.aggregator.fusion.iter_avg_fusion_handler | Model updateNone\n",
            "2022-07-25 23:48:35,841 | 1.0.6 | INFO | ibmfl.aggregator.fusion.fusion_state_service  | Fusion state States.SND_MODEL\n",
            "2022-07-25 23:48:35,841 | 1.0.6 | INFO | ibmfl.aggregator.protohandler.proto_handler   | State: States.SND_REQ\n",
            "2022-07-25 23:48:35,944 | 1.0.6 | INFO | ibmfl.aggregator.protohandler.proto_handler   | Total number of success responses :1\n",
            "2022-07-25 23:48:35,945 | 1.0.6 | INFO | ibmfl.aggregator.protohandler.proto_handler   | Number of parties queried:1\n",
            "2022-07-25 23:48:35,945 | 1.0.6 | INFO | ibmfl.aggregator.protohandler.proto_handler   | Number of registered parties:1\n",
            "2022-07-25 23:48:35,945 | 1.0.6 | INFO | ibmfl.aggregator.protohandler.proto_handler   | State: States.QUORUM_WAIT\n",
            "2022-07-25 23:48:38,307 | 1.0.6 | INFO | ibmfl.connection.flask_connection             | Request received for path :7\n",
            "2022-07-25 23:48:38,398 | 1.0.6 | INFO | werkzeug                                      | 127.0.0.1 - - [25/Jul/2022 23:48:38] \"POST /7 HTTP/1.1\" 200 -\n",
            "2022-07-25 23:48:40,950 | 1.0.6 | INFO | ibmfl.aggregator.protohandler.proto_handler   | Timeout:60 Time spent:5\n",
            "2022-07-25 23:48:40,951 | 1.0.6 | INFO | ibmfl.aggregator.protohandler.proto_handler   | State: States.PROC_RSP\n",
            "2022-07-25 23:48:40,951 | 1.0.6 | INFO | ibmfl.aggregator.fusion.fusion_state_service  | Fusion state States.RCV_MODEL\n",
            "2022-07-25 23:48:40,951 | 1.0.6 | INFO | ibmfl.aggregator.fusion.fusion_state_service  | Fusion state States.AGGREGATING\n",
            "/usr/local/lib/python3.7/site-packages/ibmfl/aggregator/fusion/iter_avg_fusion_handler.py:164: VisibleDeprecationWarning: Creating an ndarray from ragged nested sequences (which is a list-or-tuple of lists-or-tuples-or ndarrays with different lengths or shapes) is deprecated. If you meant to do this, you must specify 'dtype=object' when creating the ndarray.\n",
            "  update = np.array(update.get(key))\n",
            "2022-07-25 23:48:40,958 | 1.0.6 | INFO | ibmfl.aggregator.fusion.iter_avg_fusion_handler | Model update<ibmfl.model.model_update.ModelUpdate object at 0x7fd6f7f94c50>\n",
            "2022-07-25 23:48:40,958 | 1.0.6 | INFO | ibmfl.aggregator.fusion.fusion_state_service  | Fusion state States.SND_MODEL\n",
            "2022-07-25 23:48:40,959 | 1.0.6 | INFO | ibmfl.aggregator.protohandler.proto_handler   | State: States.SND_REQ\n",
            "2022-07-25 23:48:41,160 | 1.0.6 | INFO | ibmfl.aggregator.protohandler.proto_handler   | Total number of success responses :1\n",
            "2022-07-25 23:48:41,160 | 1.0.6 | INFO | ibmfl.aggregator.protohandler.proto_handler   | Number of parties queried:1\n",
            "2022-07-25 23:48:41,160 | 1.0.6 | INFO | ibmfl.aggregator.protohandler.proto_handler   | Number of registered parties:1\n",
            "2022-07-25 23:48:41,160 | 1.0.6 | INFO | ibmfl.aggregator.protohandler.proto_handler   | State: States.QUORUM_WAIT\n",
            "2022-07-25 23:48:42,661 | 1.0.6 | INFO | ibmfl.connection.flask_connection             | Request received for path :7\n",
            "2022-07-25 23:48:42,735 | 1.0.6 | INFO | werkzeug                                      | 127.0.0.1 - - [25/Jul/2022 23:48:42] \"POST /7 HTTP/1.1\" 200 -\n",
            "2022-07-25 23:48:46,166 | 1.0.6 | INFO | ibmfl.aggregator.protohandler.proto_handler   | Timeout:60 Time spent:5\n",
            "2022-07-25 23:48:46,166 | 1.0.6 | INFO | ibmfl.aggregator.protohandler.proto_handler   | State: States.PROC_RSP\n",
            "2022-07-25 23:48:46,166 | 1.0.6 | INFO | ibmfl.aggregator.fusion.fusion_state_service  | Fusion state States.RCV_MODEL\n",
            "2022-07-25 23:48:46,167 | 1.0.6 | INFO | ibmfl.aggregator.fusion.fusion_state_service  | Fusion state States.AGGREGATING\n",
            "2022-07-25 23:48:46,173 | 1.0.6 | INFO | ibmfl.aggregator.fusion.iter_avg_fusion_handler | Model update<ibmfl.model.model_update.ModelUpdate object at 0x7fd6f2aded50>\n",
            "2022-07-25 23:48:46,173 | 1.0.6 | INFO | ibmfl.aggregator.fusion.fusion_state_service  | Fusion state States.SND_MODEL\n",
            "2022-07-25 23:48:46,174 | 1.0.6 | INFO | ibmfl.aggregator.protohandler.proto_handler   | State: States.SND_REQ\n",
            "2022-07-25 23:48:46,375 | 1.0.6 | INFO | ibmfl.aggregator.protohandler.proto_handler   | Total number of success responses :1\n",
            "2022-07-25 23:48:46,375 | 1.0.6 | INFO | ibmfl.aggregator.protohandler.proto_handler   | Number of parties queried:1\n",
            "2022-07-25 23:48:46,375 | 1.0.6 | INFO | ibmfl.aggregator.protohandler.proto_handler   | Number of registered parties:1\n",
            "2022-07-25 23:48:46,376 | 1.0.6 | INFO | ibmfl.aggregator.protohandler.proto_handler   | State: States.QUORUM_WAIT\n",
            "2022-07-25 23:48:47,878 | 1.0.6 | INFO | ibmfl.connection.flask_connection             | Request received for path :7\n",
            "2022-07-25 23:48:47,928 | 1.0.6 | INFO | werkzeug                                      | 127.0.0.1 - - [25/Jul/2022 23:48:47] \"POST /7 HTTP/1.1\" 200 -\n",
            "2022-07-25 23:48:51,376 | 1.0.6 | INFO | ibmfl.aggregator.protohandler.proto_handler   | Timeout:60 Time spent:5\n",
            "2022-07-25 23:48:51,377 | 1.0.6 | INFO | ibmfl.aggregator.protohandler.proto_handler   | State: States.PROC_RSP\n",
            "2022-07-25 23:48:51,377 | 1.0.6 | INFO | ibmfl.aggregator.fusion.fusion_state_service  | Fusion state States.RCV_MODEL\n",
            "2022-07-25 23:48:51,377 | 1.0.6 | INFO | ibmfl.aggregator.fusion.fusion_state_service  | Fusion state States.AGGREGATING\n",
            "2022-07-25 23:48:51,381 | 1.0.6 | INFO | ibmfl.aggregator.fusion.iter_avg_fusion_handler | Reached maximum global rounds. Finish training :) \n",
            "2022-07-25 23:48:51,381 | 1.0.6 | INFO | __main__                                      | Finished Global Training\n",
            "TRAIN\n",
            "2022-07-25 23:49:53,980 | 1.0.6 | INFO | root                                          | State: States.TRAIN\n",
            "2022-07-25 23:49:53,980 | 1.0.6 | INFO | __main__                                      | Initiating Global Training.\n",
            "2022-07-25 23:49:53,980 | 1.0.6 | INFO | ibmfl.aggregator.fusion.fusion_handler        | Warm start disabled.\n",
            "2022-07-25 23:49:53,984 | 1.0.6 | INFO | ibmfl.aggregator.fusion.iter_avg_fusion_handler | Model update<ibmfl.model.model_update.ModelUpdate object at 0x7fd6f4647510>\n",
            "2022-07-25 23:49:53,984 | 1.0.6 | INFO | ibmfl.aggregator.fusion.fusion_state_service  | Fusion state States.SND_MODEL\n",
            "2022-07-25 23:49:53,984 | 1.0.6 | INFO | ibmfl.aggregator.protohandler.proto_handler   | State: States.SND_REQ\n",
            "2022-07-25 23:49:54,185 | 1.0.6 | INFO | ibmfl.aggregator.protohandler.proto_handler   | Total number of success responses :1\n",
            "2022-07-25 23:49:54,186 | 1.0.6 | INFO | ibmfl.aggregator.protohandler.proto_handler   | Number of parties queried:1\n",
            "2022-07-25 23:49:54,186 | 1.0.6 | INFO | ibmfl.aggregator.protohandler.proto_handler   | Number of registered parties:1\n",
            "2022-07-25 23:49:54,186 | 1.0.6 | INFO | ibmfl.aggregator.protohandler.proto_handler   | State: States.QUORUM_WAIT\n",
            "2022-07-25 23:49:55,680 | 1.0.6 | INFO | ibmfl.connection.flask_connection             | Request received for path :7\n",
            "2022-07-25 23:49:55,730 | 1.0.6 | INFO | werkzeug                                      | 127.0.0.1 - - [25/Jul/2022 23:49:55] \"POST /7 HTTP/1.1\" 200 -\n",
            "2022-07-25 23:49:59,189 | 1.0.6 | INFO | ibmfl.aggregator.protohandler.proto_handler   | Timeout:60 Time spent:5\n",
            "2022-07-25 23:49:59,189 | 1.0.6 | INFO | ibmfl.aggregator.protohandler.proto_handler   | State: States.PROC_RSP\n",
            "2022-07-25 23:49:59,189 | 1.0.6 | INFO | ibmfl.aggregator.fusion.fusion_state_service  | Fusion state States.RCV_MODEL\n",
            "2022-07-25 23:49:59,189 | 1.0.6 | INFO | ibmfl.aggregator.fusion.fusion_state_service  | Fusion state States.AGGREGATING\n",
            "2022-07-25 23:49:59,195 | 1.0.6 | INFO | ibmfl.aggregator.fusion.iter_avg_fusion_handler | Model update<ibmfl.model.model_update.ModelUpdate object at 0x7fd6f2a9fc90>\n",
            "2022-07-25 23:49:59,195 | 1.0.6 | INFO | ibmfl.aggregator.fusion.fusion_state_service  | Fusion state States.SND_MODEL\n",
            "2022-07-25 23:49:59,196 | 1.0.6 | INFO | ibmfl.aggregator.protohandler.proto_handler   | State: States.SND_REQ\n",
            "2022-07-25 23:49:59,297 | 1.0.6 | INFO | ibmfl.aggregator.protohandler.proto_handler   | Total number of success responses :1\n",
            "2022-07-25 23:49:59,297 | 1.0.6 | INFO | ibmfl.aggregator.protohandler.proto_handler   | Number of parties queried:1\n",
            "2022-07-25 23:49:59,297 | 1.0.6 | INFO | ibmfl.aggregator.protohandler.proto_handler   | Number of registered parties:1\n",
            "2022-07-25 23:49:59,297 | 1.0.6 | INFO | ibmfl.aggregator.protohandler.proto_handler   | State: States.QUORUM_WAIT\n",
            "2022-07-25 23:50:00,891 | 1.0.6 | INFO | ibmfl.connection.flask_connection             | Request received for path :7\n",
            "2022-07-25 23:50:00,943 | 1.0.6 | INFO | werkzeug                                      | 127.0.0.1 - - [25/Jul/2022 23:50:00] \"POST /7 HTTP/1.1\" 200 -\n",
            "2022-07-25 23:50:04,303 | 1.0.6 | INFO | ibmfl.aggregator.protohandler.proto_handler   | Timeout:60 Time spent:5\n",
            "2022-07-25 23:50:04,303 | 1.0.6 | INFO | ibmfl.aggregator.protohandler.proto_handler   | State: States.PROC_RSP\n",
            "2022-07-25 23:50:04,303 | 1.0.6 | INFO | ibmfl.aggregator.fusion.fusion_state_service  | Fusion state States.RCV_MODEL\n",
            "2022-07-25 23:50:04,303 | 1.0.6 | INFO | ibmfl.aggregator.fusion.fusion_state_service  | Fusion state States.AGGREGATING\n",
            "2022-07-25 23:50:04,311 | 1.0.6 | INFO | ibmfl.aggregator.fusion.iter_avg_fusion_handler | Model update<ibmfl.model.model_update.ModelUpdate object at 0x7fd6f3e21710>\n",
            "2022-07-25 23:50:04,311 | 1.0.6 | INFO | ibmfl.aggregator.fusion.fusion_state_service  | Fusion state States.SND_MODEL\n",
            "2022-07-25 23:50:04,311 | 1.0.6 | INFO | ibmfl.aggregator.protohandler.proto_handler   | State: States.SND_REQ\n",
            "2022-07-25 23:50:04,412 | 1.0.6 | INFO | ibmfl.aggregator.protohandler.proto_handler   | Total number of success responses :1\n",
            "2022-07-25 23:50:04,413 | 1.0.6 | INFO | ibmfl.aggregator.protohandler.proto_handler   | Number of parties queried:1\n",
            "2022-07-25 23:50:04,413 | 1.0.6 | INFO | ibmfl.aggregator.protohandler.proto_handler   | Number of registered parties:1\n",
            "2022-07-25 23:50:04,413 | 1.0.6 | INFO | ibmfl.aggregator.protohandler.proto_handler   | State: States.QUORUM_WAIT\n",
            "2022-07-25 23:50:06,010 | 1.0.6 | INFO | ibmfl.connection.flask_connection             | Request received for path :7\n",
            "2022-07-25 23:50:06,068 | 1.0.6 | INFO | werkzeug                                      | 127.0.0.1 - - [25/Jul/2022 23:50:06] \"POST /7 HTTP/1.1\" 200 -\n",
            "2022-07-25 23:50:09,418 | 1.0.6 | INFO | ibmfl.aggregator.protohandler.proto_handler   | Timeout:60 Time spent:5\n",
            "2022-07-25 23:50:09,419 | 1.0.6 | INFO | ibmfl.aggregator.protohandler.proto_handler   | State: States.PROC_RSP\n",
            "2022-07-25 23:50:09,419 | 1.0.6 | INFO | ibmfl.aggregator.fusion.fusion_state_service  | Fusion state States.RCV_MODEL\n",
            "2022-07-25 23:50:09,419 | 1.0.6 | INFO | ibmfl.aggregator.fusion.fusion_state_service  | Fusion state States.AGGREGATING\n",
            "2022-07-25 23:50:09,422 | 1.0.6 | INFO | ibmfl.aggregator.fusion.iter_avg_fusion_handler | Reached maximum global rounds. Finish training :) \n",
            "2022-07-25 23:50:09,423 | 1.0.6 | INFO | __main__                                      | Finished Global Training\n",
            "TRAIN\n",
            "2022-07-25 23:50:13,272 | 1.0.6 | INFO | root                                          | State: States.TRAIN\n",
            "2022-07-25 23:50:13,272 | 1.0.6 | INFO | __main__                                      | Initiating Global Training.\n",
            "2022-07-25 23:50:13,272 | 1.0.6 | INFO | ibmfl.aggregator.fusion.fusion_handler        | Warm start disabled.\n",
            "2022-07-25 23:50:13,275 | 1.0.6 | INFO | ibmfl.aggregator.fusion.iter_avg_fusion_handler | Model update<ibmfl.model.model_update.ModelUpdate object at 0x7fd6f2aded50>\n",
            "2022-07-25 23:50:13,276 | 1.0.6 | INFO | ibmfl.aggregator.fusion.fusion_state_service  | Fusion state States.SND_MODEL\n",
            "2022-07-25 23:50:13,276 | 1.0.6 | INFO | ibmfl.aggregator.protohandler.proto_handler   | State: States.SND_REQ\n",
            "2022-07-25 23:50:13,377 | 1.0.6 | INFO | ibmfl.aggregator.protohandler.proto_handler   | Total number of success responses :1\n",
            "2022-07-25 23:50:13,377 | 1.0.6 | INFO | ibmfl.aggregator.protohandler.proto_handler   | Number of parties queried:1\n",
            "2022-07-25 23:50:13,377 | 1.0.6 | INFO | ibmfl.aggregator.protohandler.proto_handler   | Number of registered parties:1\n",
            "2022-07-25 23:50:13,377 | 1.0.6 | INFO | ibmfl.aggregator.protohandler.proto_handler   | State: States.QUORUM_WAIT\n",
            "2022-07-25 23:50:14,954 | 1.0.6 | INFO | ibmfl.connection.flask_connection             | Request received for path :7\n",
            "2022-07-25 23:50:15,004 | 1.0.6 | INFO | werkzeug                                      | 127.0.0.1 - - [25/Jul/2022 23:50:15] \"POST /7 HTTP/1.1\" 200 -\n",
            "2022-07-25 23:50:18,382 | 1.0.6 | INFO | ibmfl.aggregator.protohandler.proto_handler   | Timeout:60 Time spent:5\n",
            "2022-07-25 23:50:18,382 | 1.0.6 | INFO | ibmfl.aggregator.protohandler.proto_handler   | State: States.PROC_RSP\n",
            "2022-07-25 23:50:18,383 | 1.0.6 | INFO | ibmfl.aggregator.fusion.fusion_state_service  | Fusion state States.RCV_MODEL\n",
            "2022-07-25 23:50:18,383 | 1.0.6 | INFO | ibmfl.aggregator.fusion.fusion_state_service  | Fusion state States.AGGREGATING\n",
            "2022-07-25 23:50:18,390 | 1.0.6 | INFO | ibmfl.aggregator.fusion.iter_avg_fusion_handler | Model update<ibmfl.model.model_update.ModelUpdate object at 0x7fd6f7f94c50>\n",
            "2022-07-25 23:50:18,390 | 1.0.6 | INFO | ibmfl.aggregator.fusion.fusion_state_service  | Fusion state States.SND_MODEL\n",
            "2022-07-25 23:50:18,390 | 1.0.6 | INFO | ibmfl.aggregator.protohandler.proto_handler   | State: States.SND_REQ\n",
            "2022-07-25 23:50:18,591 | 1.0.6 | INFO | ibmfl.aggregator.protohandler.proto_handler   | Total number of success responses :1\n",
            "2022-07-25 23:50:18,592 | 1.0.6 | INFO | ibmfl.aggregator.protohandler.proto_handler   | Number of parties queried:1\n",
            "2022-07-25 23:50:18,592 | 1.0.6 | INFO | ibmfl.aggregator.protohandler.proto_handler   | Number of registered parties:1\n",
            "2022-07-25 23:50:18,592 | 1.0.6 | INFO | ibmfl.aggregator.protohandler.proto_handler   | State: States.QUORUM_WAIT\n",
            "2022-07-25 23:50:20,084 | 1.0.6 | INFO | ibmfl.connection.flask_connection             | Request received for path :7\n",
            "2022-07-25 23:50:20,134 | 1.0.6 | INFO | werkzeug                                      | 127.0.0.1 - - [25/Jul/2022 23:50:20] \"POST /7 HTTP/1.1\" 200 -\n",
            "2022-07-25 23:50:23,597 | 1.0.6 | INFO | ibmfl.aggregator.protohandler.proto_handler   | Timeout:60 Time spent:5\n",
            "2022-07-25 23:50:23,598 | 1.0.6 | INFO | ibmfl.aggregator.protohandler.proto_handler   | State: States.PROC_RSP\n",
            "2022-07-25 23:50:23,598 | 1.0.6 | INFO | ibmfl.aggregator.fusion.fusion_state_service  | Fusion state States.RCV_MODEL\n",
            "2022-07-25 23:50:23,598 | 1.0.6 | INFO | ibmfl.aggregator.fusion.fusion_state_service  | Fusion state States.AGGREGATING\n",
            "2022-07-25 23:50:23,604 | 1.0.6 | INFO | ibmfl.aggregator.fusion.iter_avg_fusion_handler | Model update<ibmfl.model.model_update.ModelUpdate object at 0x7fd6f2a9fc90>\n",
            "2022-07-25 23:50:23,604 | 1.0.6 | INFO | ibmfl.aggregator.fusion.fusion_state_service  | Fusion state States.SND_MODEL\n",
            "2022-07-25 23:50:23,604 | 1.0.6 | INFO | ibmfl.aggregator.protohandler.proto_handler   | State: States.SND_REQ\n",
            "2022-07-25 23:50:23,805 | 1.0.6 | INFO | ibmfl.aggregator.protohandler.proto_handler   | Total number of success responses :1\n",
            "2022-07-25 23:50:23,806 | 1.0.6 | INFO | ibmfl.aggregator.protohandler.proto_handler   | Number of parties queried:1\n",
            "2022-07-25 23:50:23,806 | 1.0.6 | INFO | ibmfl.aggregator.protohandler.proto_handler   | Number of registered parties:1\n",
            "2022-07-25 23:50:23,806 | 1.0.6 | INFO | ibmfl.aggregator.protohandler.proto_handler   | State: States.QUORUM_WAIT\n",
            "2022-07-25 23:50:25,306 | 1.0.6 | INFO | ibmfl.connection.flask_connection             | Request received for path :7\n",
            "2022-07-25 23:50:25,358 | 1.0.6 | INFO | werkzeug                                      | 127.0.0.1 - - [25/Jul/2022 23:50:25] \"POST /7 HTTP/1.1\" 200 -\n",
            "2022-07-25 23:50:28,811 | 1.0.6 | INFO | ibmfl.aggregator.protohandler.proto_handler   | Timeout:60 Time spent:5\n",
            "2022-07-25 23:50:28,811 | 1.0.6 | INFO | ibmfl.aggregator.protohandler.proto_handler   | State: States.PROC_RSP\n",
            "2022-07-25 23:50:28,811 | 1.0.6 | INFO | ibmfl.aggregator.fusion.fusion_state_service  | Fusion state States.RCV_MODEL\n",
            "2022-07-25 23:50:28,811 | 1.0.6 | INFO | ibmfl.aggregator.fusion.fusion_state_service  | Fusion state States.AGGREGATING\n",
            "2022-07-25 23:50:28,815 | 1.0.6 | INFO | ibmfl.aggregator.fusion.iter_avg_fusion_handler | Reached maximum global rounds. Finish training :) \n",
            "2022-07-25 23:50:28,815 | 1.0.6 | INFO | __main__                                      | Finished Global Training\n",
            "SYNC\n",
            "2022-07-25 23:50:32,666 | 1.0.6 | INFO | root                                          | State: States.SYNC\n",
            "2022-07-25 23:50:32,667 | 1.0.6 | INFO | __main__                                      | Initiating global model sync requests.\n",
            "2022-07-25 23:50:32,670 | 1.0.6 | INFO | ibmfl.aggregator.fusion.fusion_handler        | Sync Global Model<ibmfl.model.model_update.ModelUpdate object at 0x7fd6f2a8f090>\n",
            "2022-07-25 23:50:32,670 | 1.0.6 | INFO | ibmfl.aggregator.protohandler.proto_handler   | State: States.SND_REQ\n",
            "2022-07-25 23:50:32,871 | 1.0.6 | INFO | ibmfl.aggregator.protohandler.proto_handler   | Total number of success responses :1\n",
            "2022-07-25 23:50:32,871 | 1.0.6 | INFO | ibmfl.aggregator.protohandler.proto_handler   | Number of parties queried:1\n",
            "2022-07-25 23:50:32,872 | 1.0.6 | INFO | ibmfl.aggregator.protohandler.proto_handler   | Number of registered parties:1\n",
            "2022-07-25 23:50:32,872 | 1.0.6 | INFO | __main__                                      | Finished sync model requests\n",
            "SAVE\n",
            "2022-07-25 23:52:01,655 | 1.0.6 | INFO | root                                          | State: States.SAVE\n",
            "2022-07-25 23:52:01,655 | 1.0.6 | INFO | __main__                                      | Initiating save model request.\n",
            "2022-07-25 23:52:01,655 | 1.0.6 | INFO | ibmfl.aggregator.protohandler.proto_handler   | State: States.SND_REQ\n",
            "2022-07-25 23:52:01,857 | 1.0.6 | INFO | ibmfl.aggregator.protohandler.proto_handler   | Total number of success responses :1\n",
            "2022-07-25 23:52:01,857 | 1.0.6 | INFO | ibmfl.aggregator.protohandler.proto_handler   | Number of parties queried:1\n",
            "2022-07-25 23:52:01,857 | 1.0.6 | INFO | ibmfl.aggregator.protohandler.proto_handler   | Number of registered parties:1\n",
            "2022-07-25 23:52:01,858 | 1.0.6 | INFO | ibmfl.aggregator.fusion.fusion_handler        | Finished saving the models.\n",
            "2022-07-25 23:52:01,858 | 1.0.6 | INFO | __main__                                      | Finished save requests\n",
            "STOP\n",
            "2022-07-25 23:53:04,528 | 1.0.6 | INFO | root                                          | State: States.STOP\n",
            "2022-07-25 23:53:04,529 | 1.0.6 | INFO | ibmfl.aggregator.protohandler.proto_handler   | State: States.SND_REQ\n",
            "2022-07-25 23:53:04,630 | 1.0.6 | INFO | ibmfl.aggregator.protohandler.proto_handler   | Total number of success responses :1\n",
            "2022-07-25 23:53:04,630 | 1.0.6 | INFO | ibmfl.aggregator.protohandler.proto_handler   | Number of parties queried:1\n",
            "2022-07-25 23:53:04,630 | 1.0.6 | INFO | ibmfl.aggregator.protohandler.proto_handler   | Number of registered parties:1\n",
            "2022-07-25 23:53:04,630 | 1.0.6 | INFO | ibmfl.connection.flask_connection             | Stopping Receiver and Sender\n",
            "2022-07-25 23:53:04,633 | 1.0.6 | ERROR | ibmfl.connection.flask_connection             | Exception on /shutdown [POST]\n",
            "Traceback (most recent call last):\n",
            "  File \"/usr/local/lib/python3.7/site-packages/flask/app.py\", line 2073, in wsgi_app\n",
            "    response = self.full_dispatch_request()\n",
            "  File \"/usr/local/lib/python3.7/site-packages/flask/app.py\", line 1519, in full_dispatch_request\n",
            "    rv = self.handle_user_exception(e)\n",
            "  File \"/usr/local/lib/python3.7/site-packages/flask/app.py\", line 1517, in full_dispatch_request\n",
            "    rv = self.dispatch_request()\n",
            "  File \"/usr/local/lib/python3.7/site-packages/flask/app.py\", line 1503, in dispatch_request\n",
            "    return self.ensure_sync(self.view_functions[rule.endpoint])(**req.view_args)\n",
            "  File \"/usr/local/lib/python3.7/site-packages/ibmfl/connection/flask_connection.py\", line 268, in shutdown\n",
            "    self.shutdown_server()\n",
            "  File \"/usr/local/lib/python3.7/site-packages/ibmfl/connection/flask_connection.py\", line 253, in shutdown_server\n",
            "    raise RuntimeError('Not running with the Werkzeug Server')\n",
            "RuntimeError: Not running with the Werkzeug Server\n",
            "2022-07-25 23:53:04,636 | 1.0.6 | INFO | werkzeug                                      | 127.0.0.1 - - [25/Jul/2022 23:53:04] \"\u001b[35m\u001b[1mPOST /shutdown HTTP/1.1\u001b[0m\" 500 -\n",
            "2022-07-25 23:53:04,637 | 1.0.6 | INFO | __main__                                      | Aggregator stop successful\n",
            "STOP\n",
            "EVAL\n"
          ]
        }
      ]
    },
    {
      "cell_type": "code",
      "source": [
        "!python -m ibmfl.party.party examples/configs/iter_avg/keras/config_party*.yml"
      ],
      "metadata": {
        "id": "7jC3ljitjv3x"
      },
      "execution_count": null,
      "outputs": []
    },
    {
      "cell_type": "code",
      "source": [
        ""
      ],
      "metadata": {
        "id": "EKXvrcatmOtq"
      },
      "execution_count": null,
      "outputs": []
    }
  ]
}